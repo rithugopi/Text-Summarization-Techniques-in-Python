{
  "nbformat": 4,
  "nbformat_minor": 0,
  "metadata": {
    "colab": {
      "provenance": []
    },
    "kernelspec": {
      "name": "python3",
      "display_name": "Python 3"
    },
    "language_info": {
      "name": "python"
    }
  },
  "cells": [
    {
      "cell_type": "code",
      "source": [
        "!pip install transformers[sentencepiece] datasets sacrebleu rouge_score py7zr -q"
      ],
      "metadata": {
        "id": "bU1yAAV3H3wR"
      },
      "execution_count": 1,
      "outputs": []
    },
    {
      "cell_type": "code",
      "execution_count": 2,
      "metadata": {
        "colab": {
          "base_uri": "https://localhost:8080/"
        },
        "id": "Td_sCkt3AmEO",
        "outputId": "26a20b12-55d3-4efa-b64d-5267ba8d16e7"
      },
      "outputs": [
        {
          "output_type": "stream",
          "name": "stderr",
          "text": [
            "[nltk_data] Downloading package punkt to /root/nltk_data...\n",
            "[nltk_data]   Package punkt is already up-to-date!\n"
          ]
        }
      ],
      "source": [
        "import torch\n",
        "import pandas as pd\n",
        "from tqdm import tqdm\n",
        "from datasets import load_dataset, load_metric\n",
        "from nltk.tokenize import sent_tokenize\n",
        "from transformers import AutoModelForSeq2SeqLM, AutoTokenizer, pipeline, set_seed\n",
        "import nltk\n",
        "from rouge_score import rouge_scorer\n",
        "from nltk.translate.bleu_score import sentence_bleu\n",
        "nltk.download('punkt')\n",
        "from transformers import BertTokenizer, BertForNextSentencePrediction, pipeline"
      ]
    },
    {
      "cell_type": "code",
      "source": [
        "# Load the dataset\n",
        "dataset = load_dataset(\"ccdv/pubmed-summarization\", ignore_verifications=True)\n"
      ],
      "metadata": {
        "colab": {
          "base_uri": "https://localhost:8080/"
        },
        "id": "p-EJXfjyAy43",
        "outputId": "09d698bf-88c0-4a17-a112-4586343bf38d"
      },
      "execution_count": 3,
      "outputs": [
        {
          "output_type": "stream",
          "name": "stderr",
          "text": [
            "/usr/local/lib/python3.10/dist-packages/datasets/load.py:2524: FutureWarning: 'ignore_verifications' was deprecated in favor of 'verification_mode' in version 2.9.1 and will be removed in 3.0.0.\n",
            "You can remove this warning by passing 'verification_mode=no_checks' instead.\n",
            "  warnings.warn(\n",
            "/usr/local/lib/python3.10/dist-packages/huggingface_hub/utils/_token.py:88: UserWarning: \n",
            "The secret `HF_TOKEN` does not exist in your Colab secrets.\n",
            "To authenticate with the Hugging Face Hub, create a token in your settings tab (https://huggingface.co/settings/tokens), set it as secret in your Google Colab and restart your session.\n",
            "You will be able to reuse this secret in all of your notebooks.\n",
            "Please note that authentication is recommended but still optional to access public models or datasets.\n",
            "  warnings.warn(\n",
            "/usr/local/lib/python3.10/dist-packages/datasets/load.py:1461: FutureWarning: The repository for ccdv/pubmed-summarization contains custom code which must be executed to correctly load the dataset. You can inspect the repository content at https://hf.co/datasets/ccdv/pubmed-summarization\n",
            "You can avoid this message in future by passing the argument `trust_remote_code=True`.\n",
            "Passing `trust_remote_code=True` will be mandatory to load this dataset from the next major release of `datasets`.\n",
            "  warnings.warn(\n"
          ]
        }
      ]
    },
    {
      "cell_type": "code",
      "source": [
        "sample_text = dataset[\"train\"][1][\"article\"][:1000]\n",
        "sample_text"
      ],
      "metadata": {
        "colab": {
          "base_uri": "https://localhost:8080/",
          "height": 123
        },
        "id": "ZvH4HlEvFBYr",
        "outputId": "e4794121-9cd6-494e-ed5c-20baf5746e10"
      },
      "execution_count": 4,
      "outputs": [
        {
          "output_type": "execute_result",
          "data": {
            "text/plain": [
              "'it occurs in more than 50% of patients and may reach 90% in certain types of cancers , especially in patients undergoing chemotherapy and/or radiation therapy.1 anemia is defined as an inadequate circulating level of hemoglobin ( hb ) ( hb < 12 g / dl ) and may arise as a result of the underlying disease , bleeding , poor nutrition , chemotherapy , or radiation therapy . \\n preliminary studies suggest that survival and loco - regional control after radiation therapy , especially in head and neck cancers , may be compromised by anemia.24 anemia often worsens symptoms such as fatigue , weakness , and dyspnea , and thus may have a negative effect on quality of life ( qol ) and performance status in patients with cancer . \\n thus , to improve physical functioning , qol , and prognosis in patients with cancer , it would be reasonable to take a proactive approach in identifying populations who need treatment for cancer - associated anemia ( caa ) and provide timely management . \\n blood transfu'"
            ],
            "application/vnd.google.colaboratory.intrinsic+json": {
              "type": "string"
            }
          },
          "metadata": {},
          "execution_count": 4
        }
      ]
    },
    {
      "cell_type": "code",
      "source": [
        "summaries={}"
      ],
      "metadata": {
        "id": "rYvMbZrSPk0x"
      },
      "execution_count": 5,
      "outputs": []
    },
    {
      "cell_type": "code",
      "source": [
        "# Initializing T5 pipeline\n",
        "t5_pipeline = pipeline('summarization', model='t5-small')\n",
        "t5_output = t5_pipeline(sample_text)\n",
        "summaries['t5'] = '\\n'.join(sent_tokenize(t5_output[0]['summary_text']))"
      ],
      "metadata": {
        "id": "xOQGJig1Gxx7"
      },
      "execution_count": 6,
      "outputs": []
    },
    {
      "cell_type": "code",
      "source": [
        "# Initialize BART pipeline\n",
        "bart_pipeline = pipeline(\"summarization\", model=\"facebook/bart-large-cnn\")\n",
        "bart_output = bart_pipeline(sample_text)\n",
        "summaries['bart'] = '\\n'.join(sent_tokenize(bart_output[0]['summary_text']))"
      ],
      "metadata": {
        "id": "bezLa_5mHPv1"
      },
      "execution_count": 7,
      "outputs": []
    },
    {
      "cell_type": "code",
      "source": [
        "# Initialize PEGASUS pipeline\n",
        "pegasus_tokenizer = AutoTokenizer.from_pretrained(\"google/pegasus-large\")\n",
        "pegasus_model = AutoModelForSeq2SeqLM.from_pretrained(\"google/pegasus-large\")\n",
        "pegasus_pipeline = pipeline(\"summarization\", model=pegasus_model, tokenizer=pegasus_tokenizer)\n",
        "pegasus_output = pegasus_pipeline(sample_text)\n",
        "summaries['pegasus'] = '\\n'.join(sent_tokenize(pegasus_output[0]['summary_text']))\n",
        "\n"
      ],
      "metadata": {
        "colab": {
          "base_uri": "https://localhost:8080/"
        },
        "id": "iZ9eKRPHHlab",
        "outputId": "c340f15e-1d6e-4747-b75b-13e3d474e81e"
      },
      "execution_count": 8,
      "outputs": [
        {
          "output_type": "stream",
          "name": "stderr",
          "text": [
            "Some weights of PegasusForConditionalGeneration were not initialized from the model checkpoint at google/pegasus-large and are newly initialized: ['model.decoder.embed_positions.weight', 'model.encoder.embed_positions.weight']\n",
            "You should probably TRAIN this model on a down-stream task to be able to use it for predictions and inference.\n",
            "Your max_length is set to 256, but your input_length is only 214. Since this is a summarization task, where outputs shorter than the input are typically wanted, you might consider decreasing max_length manually, e.g. summarizer('...', max_length=107)\n"
          ]
        }
      ]
    },
    {
      "cell_type": "code",
      "source": [
        "# Initialize BERT model\n",
        "bert_tokenizer = BertTokenizer.from_pretrained(\"bert-base-uncased\")\n",
        "bert_model = BertForNextSentencePrediction.from_pretrained(\"bert-base-uncased\")\n",
        "bert_pipeline = pipeline(\"feature-extraction\", model=bert_model, tokenizer=bert_tokenizer)\n",
        "bert_output = bert_pipeline(sample_text)\n",
        "top_sentences = sorted(list(enumerate(bert_output[0])), key=lambda x: x[1], reverse=True)[:3]\n",
        "summary_sentences = [sent_tokenize(sample_text)[index] for index, _ in top_sentences]\n",
        "summaries['bert'] = '\\n'.join(summary_sentences)\n"
      ],
      "metadata": {
        "id": "wNCzsWCQ4USy"
      },
      "execution_count": 9,
      "outputs": []
    },
    {
      "cell_type": "code",
      "source": [
        "summaries"
      ],
      "metadata": {
        "colab": {
          "base_uri": "https://localhost:8080/"
        },
        "id": "mmiPdpbzI22j",
        "outputId": "01d68150-3fbc-4ddb-8b74-f82b9b6bdd06"
      },
      "execution_count": 10,
      "outputs": [
        {
          "output_type": "execute_result",
          "data": {
            "text/plain": [
              "{'t5': 'anemia is defined as an inadequate circulating level of hemoglobin ( hb  12 g / dl ) and may arise as a result of the underlying disease .\\npreliminary studies suggest survival and loco - regional control after radiation therapy may be compromised by anemia .',\n",
              " 'bart': 'Anemia is defined as an inadequate circulating level of hemoglobin ( hb) It occurs in more than 50% of patients and may reach 90% in certain types of cancers.\\nAnemia often worsens symptoms such as fatigue and dyspnea.\\nIt can have a negative effect on quality of life ( qol) and performance status in patients with cancer.',\n",
              " 'pegasus': 'preliminary studies suggest that survival and loco - regional control after radiation therapy , especially in head and neck cancers , may be compromised by anemia.24 anemia often worsens symptoms such as fatigue , weakness , and dyspnea , and thus may have a negative effect on quality of life ( qol ) and performance status in patients with cancer .',\n",
              " 'bert': 'it occurs in more than 50% of patients and may reach 90% in certain types of cancers , especially in patients undergoing chemotherapy and/or radiation therapy.1 anemia is defined as an inadequate circulating level of hemoglobin ( hb ) ( hb < 12 g / dl ) and may arise as a result of the underlying disease , bleeding , poor nutrition , chemotherapy , or radiation therapy .\\npreliminary studies suggest that survival and loco - regional control after radiation therapy , especially in head and neck cancers , may be compromised by anemia.24 anemia often worsens symptoms such as fatigue , weakness , and dyspnea , and thus may have a negative effect on quality of life ( qol ) and performance status in patients with cancer .'}"
            ]
          },
          "metadata": {},
          "execution_count": 10
        }
      ]
    },
    {
      "cell_type": "code",
      "source": [
        "# Print summaries\n",
        "for model, summary in summaries.items():\n",
        "    print(f\"{model.capitalize()} Summary:\\n{summary}\\n\")\n",
        "\n",
        "# Load ROUGE metric\n",
        "rouge_metric = load_metric('rouge')\n",
        "\n",
        "# Calculate ROUGE scores for each model\n",
        "records = []\n",
        "reference = dataset['train'][1]['abstract']\n",
        "\n",
        "for model_name, summary in summaries.items():\n",
        "    rouge_metric.add(prediction=summary, reference=reference)\n",
        "    score = rouge_metric.compute()\n",
        "    rouge_dict = {rn: score[rn].mid.fmeasure for rn in [\"rouge1\", \"rouge2\", \"rougeL\", \"rougeLsum\"]}\n",
        "    print(f'{model_name.capitalize()} ROUGE Scores:', rouge_dict)\n",
        "    records.append(rouge_dict)\n",
        "\n",
        "# Convert results to DataFrame\n",
        "df_results = pd.DataFrame.from_records(records, index=summaries.keys())\n",
        "print(df_results)\n"
      ],
      "metadata": {
        "colab": {
          "base_uri": "https://localhost:8080/"
        },
        "id": "CH7XG0WgJvkI",
        "outputId": "680eb00e-fc04-4fe3-b979-b3d2e75f4564"
      },
      "execution_count": 11,
      "outputs": [
        {
          "output_type": "stream",
          "name": "stdout",
          "text": [
            "T5 Summary:\n",
            "anemia is defined as an inadequate circulating level of hemoglobin ( hb  12 g / dl ) and may arise as a result of the underlying disease .\n",
            "preliminary studies suggest survival and loco - regional control after radiation therapy may be compromised by anemia .\n",
            "\n",
            "Bart Summary:\n",
            "Anemia is defined as an inadequate circulating level of hemoglobin ( hb) It occurs in more than 50% of patients and may reach 90% in certain types of cancers.\n",
            "Anemia often worsens symptoms such as fatigue and dyspnea.\n",
            "It can have a negative effect on quality of life ( qol) and performance status in patients with cancer.\n",
            "\n",
            "Pegasus Summary:\n",
            "preliminary studies suggest that survival and loco - regional control after radiation therapy , especially in head and neck cancers , may be compromised by anemia.24 anemia often worsens symptoms such as fatigue , weakness , and dyspnea , and thus may have a negative effect on quality of life ( qol ) and performance status in patients with cancer .\n",
            "\n",
            "Bert Summary:\n",
            "it occurs in more than 50% of patients and may reach 90% in certain types of cancers , especially in patients undergoing chemotherapy and/or radiation therapy.1 anemia is defined as an inadequate circulating level of hemoglobin ( hb ) ( hb < 12 g / dl ) and may arise as a result of the underlying disease , bleeding , poor nutrition , chemotherapy , or radiation therapy .\n",
            "preliminary studies suggest that survival and loco - regional control after radiation therapy , especially in head and neck cancers , may be compromised by anemia.24 anemia often worsens symptoms such as fatigue , weakness , and dyspnea , and thus may have a negative effect on quality of life ( qol ) and performance status in patients with cancer .\n",
            "\n"
          ]
        },
        {
          "output_type": "stream",
          "name": "stderr",
          "text": [
            "<ipython-input-11-7cfb07ded315>:6: FutureWarning: load_metric is deprecated and will be removed in the next major version of datasets. Use 'evaluate.load' instead, from the new library 🤗 Evaluate: https://huggingface.co/docs/evaluate\n",
            "  rouge_metric = load_metric('rouge')\n",
            "/usr/local/lib/python3.10/dist-packages/datasets/load.py:756: FutureWarning: The repository for rouge contains custom code which must be executed to correctly load the metric. You can inspect the repository content at https://raw.githubusercontent.com/huggingface/datasets/2.18.0/metrics/rouge/rouge.py\n",
            "You can avoid this message in future by passing the argument `trust_remote_code=True`.\n",
            "Passing `trust_remote_code=True` will be mandatory to load this metric from the next major release of `datasets`.\n",
            "  warnings.warn(\n"
          ]
        },
        {
          "output_type": "stream",
          "name": "stdout",
          "text": [
            "T5 ROUGE Scores: {'rouge1': 0.11956521739130434, 'rouge2': 0.027322404371584695, 'rougeL': 0.05978260869565217, 'rougeLsum': 0.10869565217391303}\n",
            "Bart ROUGE Scores: {'rouge1': 0.1671018276762402, 'rouge2': 0.07349081364829396, 'rougeL': 0.10443864229765014, 'rougeLsum': 0.1566579634464752}\n",
            "Pegasus ROUGE Scores: {'rouge1': 0.15748031496062992, 'rouge2': 0.058047493403693924, 'rougeL': 0.09448818897637797, 'rougeLsum': 0.12073490813648294}\n",
            "Bert ROUGE Scores: {'rouge1': 0.2681818181818182, 'rouge2': 0.09132420091324202, 'rougeL': 0.1318181818181818, 'rougeLsum': 0.2227272727272727}\n",
            "           rouge1    rouge2    rougeL  rougeLsum\n",
            "t5       0.119565  0.027322  0.059783   0.108696\n",
            "bart     0.167102  0.073491  0.104439   0.156658\n",
            "pegasus  0.157480  0.058047  0.094488   0.120735\n",
            "bert     0.268182  0.091324  0.131818   0.222727\n"
          ]
        }
      ]
    }
  ]
}